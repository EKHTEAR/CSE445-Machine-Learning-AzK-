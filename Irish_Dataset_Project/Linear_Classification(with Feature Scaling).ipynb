{
 "cells": [
  {
   "cell_type": "code",
   "execution_count": 1,
   "metadata": {},
   "outputs": [],
   "source": [
    "import sklearn\n",
    "from sklearn import datasets\n",
    "\n",
    "iris = datasets.load_iris()\n",
    "X_temp = iris.data\n",
    "y_temp = iris.target"
   ]
  },
  {
   "cell_type": "code",
   "execution_count": 2,
   "metadata": {},
   "outputs": [],
   "source": [
    "from sklearn.model_selection import train_test_split\n",
    "from sklearn import preprocessing\n",
    "\n",
    "X, y = X_temp[:, [0,1]], y_temp\n",
    "\n",
    "X_train, X_test, y_train, y_test = train_test_split(X, y, test_size=0.25, random_state=33)\n",
    "    \n",
    "    \n",
    "scaler = preprocessing.StandardScaler().fit(X_train)\n",
    "X_train = scaler.transform(X_train)\n",
    "X_test = scaler.transform(X_test)"
   ]
  },
  {
   "cell_type": "code",
   "execution_count": 3,
   "metadata": {},
   "outputs": [
    {
     "name": "stdout",
     "output_type": "stream",
     "text": [
      "Training set mean:0.00 and standard deviation:1.00\n",
      "Testing set mean:0.13 and standard deviation:0.71\n"
     ]
    }
   ],
   "source": [
    "import numpy as np\n",
    "print ('Training set mean:{:.2f} and standard deviation:{:.2f}'.format(np.average(X_train),np.std(X_train)))\n",
    "print ('Testing set mean:{:.2f} and standard deviation:{:.2f}'.format(np.average(X_test),np.std(X_test)))"
   ]
  },
  {
   "cell_type": "code",
   "execution_count": null,
   "metadata": {},
   "outputs": [],
   "source": [
    "# প্লটিং লাইব্রেরি লোড করে নেই \n",
    "import matplotlib.pyplot as plt\n",
    "\n",
    "# তিন প্রজাতির তিনটা আলাদা রং, মার্কার সহ \n",
    "colour_mk = [ ['red','s'], ['green','o'], ['blue','x']]\n",
    "plt.figure('Training Data')\n",
    "\n",
    "# লুপে ফেলে দিলাম, x এবং y এক্সিসে  \n",
    "for i in range(len(colour_mk)):\n",
    "    xs = X_train[:, 0][y_train == i]\n",
    "    ys = X_train[:, 1][y_train == i]\n",
    "    plt.scatter(xs, ys, c=colour_mk[i][0], marker=colour_mk[i][1])\n",
    "\n",
    "# সাদা ব্যাকগ্রাউন্ড দরকার আমার, গুগল কোলাবে বাড়তি শেড দরকার নেই  \n",
    "# plt.rcParams['axes.facecolor'] = 'white'\n",
    "plt.style.use('default')\n",
    "plt.grid(c='grey')\n",
    "\n",
    "# প্লটিং প্যারামিটার \n",
    "plt.title('Training instances, after scaling')\n",
    "plt.legend(iris.target_names)\n",
    "plt.xlabel('Sepal length')\n",
    "plt.ylabel('Sepal width')\n",
    "plt.show()"
   ]
  }
 ],
 "metadata": {
  "kernelspec": {
   "display_name": "Python 3",
   "language": "python",
   "name": "python3"
  },
  "language_info": {
   "codemirror_mode": {
    "name": "ipython",
    "version": 3
   },
   "file_extension": ".py",
   "mimetype": "text/x-python",
   "name": "python",
   "nbconvert_exporter": "python",
   "pygments_lexer": "ipython3",
   "version": "3.7.3"
  }
 },
 "nbformat": 4,
 "nbformat_minor": 2
}
